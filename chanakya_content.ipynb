{
 "cells": [
  {
   "cell_type": "code",
   "execution_count": 4,
   "metadata": {},
   "outputs": [],
   "source": [
    "bio_repo_read_me = \"\"\" \n",
    "Javascript React HTML5 CSS3 Tailwind Sass\n",
    "\n",
    "Express GitHub Linux Vite Redux Python C++\n",
    "\n",
    "Node NPM JSON MongoDB Figma Git Vercel Insomnia Firebase\n",
    "\n",
    "repo 1:\n",
    "This template provides a minimal setup to get React working in Vite with HMR and some ESLint rules.\n",
    "\n",
    "Currently, two official plugins are available:\n",
    "\n",
    "@vitejs/plugin-react uses Babel for Fast Refresh\n",
    "@vitejs/plugin-react-swc uses SWC for Fast Refresh\n",
    "\n",
    "repo 2:\n",
    "This is a [Next.js](https://nextjs.org) project bootstrapped with [`create-next-app`](https://github.com/vercel/next.js/tree/canary/packages/create-next-app). ## Getting Started First, run the development server: ```bash npm run dev # or yarn dev # or pnpm dev # or bun dev ``` Open [http://localhost:3000](http://localhost:3000) with your browser to see the result. You can start editing the page by modifying `app/page.js`. The page auto-updates as you edit the file. This project uses [`next/font`](https://nextjs.org/docs/app/building-your-application/optimizing/fonts) to automatically optimize and load [Geist](https://vercel.com/font), a new font family for Vercel. ## Learn More To learn more about Next.js, take a look at the following resources: - [Next.js Documentation](https://nextjs.org/docs) - learn about Next.js features and API. - [Learn Next.js](https://nextjs.org/learn) - an interactive Next.js tutorial. You can check out [the Next.js GitHub repository](https://github.com/vercel/next.js) - your feedback and contributions are welcome! ## Deploy on Vercel The easiest way to deploy your Next.js app is to use the [Vercel Platform](https://vercel.com/new?utm_medium=default-template&filter=next.js&utm_source=create-next-app&utm_campaign=create-next-app-readme) from the creators of Next.js. Check out our [Next.js deployment documentation](https://nextjs.org/docs/app/building-your-application/deploying) for more details. # onnoff_revamped.\n",
    "\n",
    "repo 3:\n",
    "# React + Vite This template provides a minimal setup to get React working in Vite with HMR and some ESLint rules. Currently, two official plugins are available: - [@vitejs/plugin-react](https://github.com/vitejs/vite-plugin-react/blob/main/packages/plugin-react/README.md) uses [Babel](https://babeljs.io/) for Fast Refresh - [@vitejs/plugin-react-swc](https://github.com/vitejs/vite-plugin-react-swc) uses [SWC](https://swc.rs/) for Fast Refresh # onnoff\n",
    "\"\"\""
   ]
  },
  {
   "cell_type": "code",
   "execution_count": 5,
   "metadata": {},
   "outputs": [],
   "source": [
    "repo_read_me = \"\"\"\n",
    "This is a [Next.js](https://nextjs.org/) project bootstrapped with [`create-next-app`](https://github.com/vercel/next.js/tree/canary/packages/create-next-app).\n",
    "\n",
    "## Getting Started\n",
    "\n",
    "First, run the development server:\n",
    "\n",
    "```bash\n",
    "npm run dev\n",
    "# or\n",
    "yarn dev\n",
    "# or\n",
    "pnpm dev\n",
    "# or\n",
    "bun dev\n",
    "```\n",
    "\n",
    "Open [http://localhost:3000](http://localhost:3000) with your browser to see the result.\n",
    "\n",
    "You can start editing the page by modifying `app/page.js`. The page auto-updates as you edit the file.\n",
    "\n",
    "This project uses [`next/font`](https://nextjs.org/docs/basic-features/font-optimization) to automatically optimize and load Inter, a custom Google Font.\n",
    "\n",
    "## Learn More\n",
    "\n",
    "To learn more about Next.js, take a look at the following resources:\n",
    "\n",
    "- [Next.js Documentation](https://nextjs.org/docs) - learn about Next.js features and API.\n",
    "- [Learn Next.js](https://nextjs.org/learn) - an interactive Next.js tutorial.\n",
    "\n",
    "You can check out [the Next.js GitHub repository](https://github.com/vercel/next.js/) - your feedback and contributions are welcome!\n",
    "\n",
    "## Deploy on Vercel\n",
    "\n",
    "The easiest way to deploy your Next.js app is to use the [Vercel Platform](https://vercel.com/new?utm_medium=default-template&filter=next.js&utm_source=create-next-app&utm_campaign=create-next-app-readme) from the creators of Next.js.\n",
    "\n",
    "Check out our [Next.js deployment documentation](https://nextjs.org/docs/deployment) for more details.\n",
    "\"\"\""
   ]
  },
  {
   "cell_type": "code",
   "execution_count": 6,
   "metadata": {},
   "outputs": [
    {
     "name": "stdout",
     "output_type": "stream",
     "text": [
      "Cosine Similarity between sentences: 0.7511524558067322\n"
     ]
    }
   ],
   "source": [
    "from sentence_transformers import SentenceTransformer\n",
    "from sklearn.metrics.pairwise import cosine_similarity\n",
    "\n",
    "# Load BERT model\n",
    "model = SentenceTransformer('bert-base-nli-mean-tokens')\n",
    "\n",
    "# Encode sentences\n",
    "sentences = [bio_repo_read_me, repo_read_me]\n",
    "embeddings = model.encode(sentences)\n",
    "\n",
    "# Calculate cosine similarity\n",
    "similarity = cosine_similarity([embeddings[0]], [embeddings[1]])\n",
    "print(f'Cosine Similarity between sentences: {similarity[0][0]}')"
   ]
  }
 ],
 "metadata": {
  "kernelspec": {
   "display_name": "Python 3",
   "language": "python",
   "name": "python3"
  },
  "language_info": {
   "codemirror_mode": {
    "name": "ipython",
    "version": 3
   },
   "file_extension": ".py",
   "mimetype": "text/x-python",
   "name": "python",
   "nbconvert_exporter": "python",
   "pygments_lexer": "ipython3",
   "version": "3.12.9"
  }
 },
 "nbformat": 4,
 "nbformat_minor": 2
}
