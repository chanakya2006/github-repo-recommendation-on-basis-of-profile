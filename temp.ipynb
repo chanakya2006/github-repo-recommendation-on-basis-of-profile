{
 "cells": [
  {
   "cell_type": "code",
   "execution_count": 4,
   "metadata": {},
   "outputs": [],
   "source": [
    "from webscraping_2 import webscrape as web\n",
    "import pandas as pd"
   ]
  },
  {
   "cell_type": "code",
   "execution_count": null,
   "metadata": {},
   "outputs": [],
   "source": [
    "target_name = \"chanakya2006\"\n",
    "main_dict : dict[str : list[dict[str : int]]] = {}"
   ]
  },
  {
   "cell_type": "code",
   "execution_count": 7,
   "metadata": {},
   "outputs": [],
   "source": [
    "repo_worked_by_user = web.get_repo_names_from_target_name(target_name)"
   ]
  },
  {
   "cell_type": "code",
   "execution_count": 12,
   "metadata": {},
   "outputs": [],
   "source": [
    "people_who_have_worked_on_the_same_repos_as_target = []\n",
    "for i in repo_worked_by_user:\n",
    "    people_who_have_worked_on_the_same_repos_as_target.extend(web.get_commits_from_repo_url(i).keys())\n",
    "people_who_have_worked_on_the_same_repos_as_target = set(people_who_have_worked_on_the_same_repos_as_target) "
   ]
  },
  {
   "cell_type": "code",
   "execution_count": 13,
   "metadata": {},
   "outputs": [
    {
     "data": {
      "text/plain": [
       "{'404avinotfound',\n",
       " 'NinjaPerson24119',\n",
       " 'Parulsri1616',\n",
       " 'V8V88V8V88',\n",
       " 'chanakya2006',\n",
       " 'julian-q',\n",
       " 'juraam',\n",
       " 'matth3wmajf',\n",
       " 'mexanik619'}"
      ]
     },
     "execution_count": 13,
     "metadata": {},
     "output_type": "execute_result"
    }
   ],
   "source": [
    "people_who_have_worked_on_the_same_repos_as_target"
   ]
  },
  {
   "cell_type": "code",
   "execution_count": null,
   "metadata": {},
   "outputs": [],
   "source": []
  }
 ],
 "metadata": {
  "kernelspec": {
   "display_name": "Python 3",
   "language": "python",
   "name": "python3"
  },
  "language_info": {
   "codemirror_mode": {
    "name": "ipython",
    "version": 3
   },
   "file_extension": ".py",
   "mimetype": "text/x-python",
   "name": "python",
   "nbconvert_exporter": "python",
   "pygments_lexer": "ipython3",
   "version": "3.12.9"
  }
 },
 "nbformat": 4,
 "nbformat_minor": 2
}
