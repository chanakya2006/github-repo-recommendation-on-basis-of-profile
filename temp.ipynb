{
 "cells": [
  {
   "cell_type": "code",
   "execution_count": null,
   "metadata": {},
   "outputs": [
    {
     "name": "stdout",
     "output_type": "stream",
     "text": [
      "User Info: {'username': 'chanakya2006', 'name': None, 'public_repos': 5, 'followers': 3, 'following': 1, 'profile_url': 'https://github.com/chanakya2006'}\n",
      "Owned Repositories: ['chanakya2006/fitness_api', 'chanakya2006/github-repo-recommendation-on-basis-of-profile', 'chanakya2006/pdf_chatbot', 'chanakya2006/python', 'chanakya2006/thefossclub.github.io']\n",
      "Contributed Repositories: ['chanakya2006/github-repo-recommendation-on-basis-of-profile']\n"
     ]
    }
   ],
   "source": [
    "# get_repo_names_from_target_name\n",
    "\n",
    "import requests\n",
    "\n",
    "# Function to get user details\n",
    "def get_github_user(username, token=None):\n",
    "    url = f\"https://api.github.com/users/{username}\"\n",
    "    headers = {\"Authorization\": f\"token {token}\"} if token else {}\n",
    "\n",
    "    response = requests.get(url, headers=headers)\n",
    "\n",
    "    if response.status_code == 200:\n",
    "        data = response.json()\n",
    "        return {\n",
    "            \"username\": data[\"login\"],\n",
    "            \"name\": data.get(\"name\", \"N/A\"),\n",
    "            \"public_repos\": data[\"public_repos\"],\n",
    "            \"followers\": data[\"followers\"],\n",
    "            \"following\": data[\"following\"],\n",
    "            \"profile_url\": data[\"html_url\"]\n",
    "        }\n",
    "    else:\n",
    "        return {\"error\": f\"Failed to fetch data: {response.status_code}\"}\n",
    "\n",
    "# Function to get repositories owned by the user\n",
    "def get_user_repos(username, token=None):\n",
    "    url = f\"https://api.github.com/users/{username}/repos\"\n",
    "    headers = {\"Authorization\": f\"token {token}\"} if token else {}\n",
    "\n",
    "    response = requests.get(url, headers=headers)\n",
    "\n",
    "    if response.status_code == 200:\n",
    "        repos = response.json()\n",
    "        return [repo[\"full_name\"] for repo in repos]\n",
    "    else:\n",
    "        return {\"error\": f\"Failed to fetch repositories: {response.status_code}\"}\n",
    "\n",
    "# Function to get repositories the user has contributed to\n",
    "def get_contributed_repos(username, token=None):\n",
    "    url = f\"https://api.github.com/users/{username}/events\"\n",
    "    headers = {\"Authorization\": f\"token {token}\"} if token else {}\n",
    "\n",
    "    response = requests.get(url, headers=headers)\n",
    "\n",
    "    if response.status_code == 200:\n",
    "        events = response.json()\n",
    "        contributed_repos = set()\n",
    "\n",
    "        for event in events:\n",
    "            if event[\"type\"] in [\"PushEvent\", \"PullRequestEvent\", \"IssuesEvent\"]:\n",
    "                contributed_repos.add(event[\"repo\"][\"name\"])\n",
    "\n",
    "        return list(contributed_repos)\n",
    "    else:\n",
    "        return {\"error\": f\"Failed to fetch contributed repositories: {response.status_code}\"}\n",
    "\n",
    "# Example usage\n",
    "username = \"chanakya2006\"  # Replace with GitHub username\n",
    "token = None  # Replace with your GitHub token for higher rate limits\n",
    "\n",
    "user_data = get_github_user(username, token)\n",
    "owned_repos = get_user_repos(username, token)\n",
    "contributed_repos = get_contributed_repos(username, token)\n",
    "\n",
    "print(\"User Info:\", user_data)\n",
    "print(\"Owned Repositories:\", owned_repos)\n",
    "print(\"Contributed Repositories:\", contributed_repos)\n"
   ]
  },
  {
   "cell_type": "code",
   "execution_count": null,
   "metadata": {},
   "outputs": [
    {
     "name": "stdout",
     "output_type": "stream",
     "text": [
      "My first time creating a backend in GO using ECHO.\n",
      "\n"
     ]
    }
   ],
   "source": [
    "#get_repo_readme\n",
    "\n",
    "import requests\n",
    "import base64\n",
    "\n",
    "def get_repo_readme(owner, repo, token=None):\n",
    "    \"\"\"\n",
    "    Fetches the README file from a given GitHub repository.\n",
    "    \n",
    "    :param owner: GitHub username or organization\n",
    "    :param repo: Repository name\n",
    "    :param token: (Optional) GitHub personal access token for authentication\n",
    "    :return: Decoded README content or an error message\n",
    "    \"\"\"\n",
    "    url = f\"https://api.github.com/repos/{owner}/{repo}/readme\"\n",
    "    headers = {\"Authorization\": f\"token {token}\"} if token else {}\n",
    "\n",
    "    response = requests.get(url, headers=headers)\n",
    "\n",
    "    if response.status_code == 200:\n",
    "        data = response.json()\n",
    "        readme_content = base64.b64decode(data[\"content\"]).decode(\"utf-8\")\n",
    "        return readme_content\n",
    "    else:\n",
    "        return f\"Error: Unable to fetch README. Status Code: {response.status_code}, Message: {response.json().get('message', 'Unknown error')}\"\n",
    "\n",
    "# Example usage\n",
    "owner = \"chanakya2006\"  # Replace with GitHub username\n",
    "repo = \"fitness_api\"  # Replace with repository name\n",
    "token = None  # Replace with your GitHub token if needed\n",
    "\n",
    "readme_content = get_repo_readme(owner, repo, token)\n",
    "print(readme_content)\n"
   ]
  },
  {
   "cell_type": "code",
   "execution_count": null,
   "metadata": {},
   "outputs": [
    {
     "name": "stdout",
     "output_type": "stream",
     "text": [
      "[{'username': 'chanakya2006', 'contributions': 23, 'profile_url': 'https://github.com/chanakya2006'}, {'username': 'mexanik619', 'contributions': 11, 'profile_url': 'https://github.com/mexanik619'}, {'username': 'Parulsri1616', 'contributions': 8, 'profile_url': 'https://github.com/Parulsri1616'}, {'username': '404avinotfound', 'contributions': 7, 'profile_url': 'https://github.com/404avinotfound'}]\n"
     ]
    }
   ],
   "source": [
    "#get_commits_from_repo_url\n",
    "import requests\n",
    "\n",
    "def get_repo_contributors(owner, repo, token=None):\n",
    "    \"\"\"\n",
    "    Fetches the list of contributors to a given GitHub repository.\n",
    "\n",
    "    :param owner: GitHub username or organization\n",
    "    :param repo: Repository name\n",
    "    :param token: (Optional) GitHub personal access token for authentication\n",
    "    :return: List of contributors with their contribution count\n",
    "    \"\"\"\n",
    "    url = f\"https://api.github.com/repos/{owner}/{repo}/contributors\"\n",
    "    headers = {\"Authorization\": f\"token {token}\"} if token else {}\n",
    "\n",
    "    response = requests.get(url, headers=headers)\n",
    "\n",
    "    if response.status_code == 200:\n",
    "        contributors = response.json()\n",
    "        contributor_list = [\n",
    "            {\"username\": user[\"login\"], \"contributions\": user[\"contributions\"], \"profile_url\": user[\"html_url\"]}\n",
    "            for user in contributors\n",
    "        ]\n",
    "        return contributor_list\n",
    "    else:\n",
    "        return f\"Error: Unable to fetch contributors. Status Code: {response.status_code}, Message: {response.json().get('message', 'Unknown error')}\"\n",
    "\n",
    "# Example usage\n",
    "owner = \"chanakya2006\"  # Replace with GitHub username\n",
    "repo = \"github-repo-recommendation-on-basis-of-profile\"  # Replace with repository name\n",
    "token = None  # Replace with your GitHub token if needed\n",
    "\n",
    "contributors = get_repo_contributors(owner, repo, token)\n",
    "print(contributors)\n"
   ]
  },
  {
   "cell_type": "code",
   "execution_count": 1,
   "metadata": {},
   "outputs": [
    {
     "name": "stdout",
     "output_type": "stream",
     "text": [
      "[{'name': 'awesome-machine-learning', 'owner': 'josephmisiti', 'stars': 67240, 'language': 'Python', 'url': 'https://github.com/josephmisiti/awesome-machine-learning'}, {'name': 'MachineLearning', 'owner': 'wepe', 'stars': 5335, 'language': 'Python', 'url': 'https://github.com/wepe/MachineLearning'}, {'name': 'Machine-Learning', 'owner': 'Jack-Cherish', 'stars': 9445, 'language': 'Python', 'url': 'https://github.com/Jack-Cherish/Machine-Learning'}, {'name': 'MachineLearning_Python', 'owner': 'lawlite19', 'stars': 7577, 'language': 'Python', 'url': 'https://github.com/lawlite19/MachineLearning_Python'}, {'name': 'machine-learning', 'owner': 'udacity', 'stars': 3963, 'language': 'Jupyter Notebook', 'url': 'https://github.com/udacity/machine-learning'}]\n"
     ]
    }
   ],
   "source": [
    "#search_result_from_query\n",
    "import requests\n",
    "\n",
    "def search_github_repos(keyword, max_results=5, token=None):\n",
    "    \"\"\"\n",
    "    Searches GitHub repositories based on a keyword.\n",
    "\n",
    "    :param keyword: Search query\n",
    "    :param max_results: Number of results to return (default is 5)\n",
    "    :param token: (Optional) GitHub personal access token for authentication\n",
    "    :return: List of top repositories matching the keyword\n",
    "    \"\"\"\n",
    "    url = f\"https://api.github.com/search/repositories?q={keyword}&per_page={max_results}\"\n",
    "    headers = {\"Authorization\": f\"token {token}\"} if token else {}\n",
    "\n",
    "    response = requests.get(url, headers=headers)\n",
    "\n",
    "    if response.status_code == 200:\n",
    "        data = response.json()\n",
    "        results = [\n",
    "            {\n",
    "                \"name\": repo[\"name\"],\n",
    "                \"owner\": repo[\"owner\"][\"login\"],\n",
    "                \"stars\": repo[\"stargazers_count\"],\n",
    "                \"language\": repo[\"language\"],\n",
    "                \"url\": repo[\"html_url\"]\n",
    "            }\n",
    "            for repo in data[\"items\"]\n",
    "        ]\n",
    "        return results\n",
    "    else:\n",
    "        return f\"Error: Unable to fetch search results. Status Code: {response.status_code}, Message: {response.json().get('message', 'Unknown error')}\"\n",
    "\n",
    "# Example usage\n",
    "keyword = \"machine learning\"  # Replace with any search query\n",
    "max_results = 5  # Number of results to return\n",
    "token = None  # Replace with your GitHub token if needed\n",
    "\n",
    "search_results = search_github_repos(keyword, max_results, token)\n",
    "print(search_results)\n"
   ]
  }
 ],
 "metadata": {
  "kernelspec": {
   "display_name": "Python 3",
   "language": "python",
   "name": "python3"
  },
  "language_info": {
   "codemirror_mode": {
    "name": "ipython",
    "version": 3
   },
   "file_extension": ".py",
   "mimetype": "text/x-python",
   "name": "python",
   "nbconvert_exporter": "python",
   "pygments_lexer": "ipython3",
   "version": "3.12.9"
  }
 },
 "nbformat": 4,
 "nbformat_minor": 2
}
