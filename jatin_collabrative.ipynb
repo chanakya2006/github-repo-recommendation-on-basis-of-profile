{
 "cells": [
  {
   "cell_type": "code",
   "execution_count": 57,
   "metadata": {},
   "outputs": [
    {
     "name": "stdout",
     "output_type": "stream",
     "text": [
      "project    projectA  projectB  projectC\n",
      "developer                              \n",
      "alice           9.5       2.5       5.5\n",
      "ask             5.5       0.0       0.0\n",
      "bob             5.0       0.0       0.0\n",
      "charlie         0.0       0.0       1.0\n"
     ]
    }
   ],
   "source": [
    "import pandas as pd\n",
    "from scipy.sparse import csr_matrix\n",
    "\n",
    "# Sample interaction data\n",
    "# Each row corresponds to an interaction event.\n",
    "# In a real-world scenario, this data might come from your API calls or database.\n",
    "data = [\n",
    "    {\"developer\": \"alice\", \"project\": \"projectA\", \"commits\": 5, \"pull_requests\": 2, \"stars\": 1},\n",
    "    {\"developer\": \"alice\", \"project\": \"projectB\", \"commits\": 2, \"pull_requests\": 0, \"stars\": 1},\n",
    "    {\"developer\": \"alice\", \"project\": \"projectC\", \"commits\": 2, \"pull_requests\": 1, \"stars\": 3},\n",
    "    {\"developer\": \"bob\", \"project\": \"projectA\", \"commits\": 3, \"pull_requests\": 1, \"stars\": 0},\n",
    "    {\"developer\": \"charlie\", \"project\": \"projectC\", \"commits\": 1, \"pull_requests\": 0, \"stars\": 0},\n",
    "    {\"developer\": \"ask\", \"project\": \"projectA\", \"commits\": 2, \"pull_requests\": 1, \"stars\": 3}\n",
    "]\n",
    "\n",
    "# Convert to DataFrame\n",
    "df = pd.DataFrame(data)\n",
    "\n",
    "# Define weights for each interaction type\n",
    "w_commits = 1.0\n",
    "w_prs = 2.0\n",
    "w_stars = 0.5\n",
    "\n",
    "# Calculate an interaction score for each record\n",
    "df[\"interaction\"] = (\n",
    "    w_commits * df[\"commits\"] +\n",
    "    w_prs * df[\"pull_requests\"] +\n",
    "    w_stars * df[\"stars\"]\n",
    ")\n",
    "\n",
    "# Create the user-item matrix: rows = developers, columns = projects, values = interaction score\n",
    "user_item_matrix = df.pivot_table(index='developer', columns='project', values='interaction', fill_value=0)\n",
    "\n",
    "print(user_item_matrix)"
   ]
  },
  {
   "cell_type": "code",
   "execution_count": 65,
   "metadata": {},
   "outputs": [
    {
     "data": {
      "text/plain": [
       "'projectA'"
      ]
     },
     "execution_count": 65,
     "metadata": {},
     "output_type": "execute_result"
    }
   ],
   "source": [
    "copy_df = pd.DataFrame(user_item_matrix.to_dict())\n",
    "copy_df.shape\n",
    "copy_df.columns[0]\n"
   ]
  },
  {
   "cell_type": "code",
   "execution_count": 66,
   "metadata": {},
   "outputs": [
    {
     "name": "stdout",
     "output_type": "stream",
     "text": [
      "5.833333333333333\n",
      "5.5\n",
      "5.0\n",
      "1.0\n"
     ]
    },
    {
     "name": "stderr",
     "output_type": "stream",
     "text": [
      "C:\\Users\\chana\\AppData\\Local\\Temp\\ipykernel_4488\\3619189564.py:9: FutureWarning: ChainedAssignmentError: behaviour will change in pandas 3.0!\n",
      "You are setting values through chained assignment. Currently this works in certain cases, but when using Copy-on-Write (which will become the default behaviour in pandas 3.0) this will never work to update the original DataFrame or Series, because the intermediate object on which we are setting values will behave as a copy.\n",
      "A typical example is when you are setting values in a column of a DataFrame, like:\n",
      "\n",
      "df[\"col\"][row_indexer] = value\n",
      "\n",
      "Use `df.loc[row_indexer, \"col\"] = values` instead, to perform the assignment in a single step and ensure this keeps updating the original `df`.\n",
      "\n",
      "See the caveats in the documentation: https://pandas.pydata.org/pandas-docs/stable/user_guide/indexing.html#returning-a-view-versus-a-copy\n",
      "\n",
      "  copy_df[k][i] = copy_df[k].iloc[i] - mean\n",
      "C:\\Users\\chana\\AppData\\Local\\Temp\\ipykernel_4488\\3619189564.py:9: FutureWarning: Series.__setitem__ treating keys as positions is deprecated. In a future version, integer keys will always be treated as labels (consistent with DataFrame behavior). To set a value by position, use `ser.iloc[pos] = value`\n",
      "  copy_df[k][i] = copy_df[k].iloc[i] - mean\n",
      "C:\\Users\\chana\\AppData\\Local\\Temp\\ipykernel_4488\\3619189564.py:9: FutureWarning: Series.__setitem__ treating keys as positions is deprecated. In a future version, integer keys will always be treated as labels (consistent with DataFrame behavior). To set a value by position, use `ser.iloc[pos] = value`\n",
      "  copy_df[k][i] = copy_df[k].iloc[i] - mean\n",
      "C:\\Users\\chana\\AppData\\Local\\Temp\\ipykernel_4488\\3619189564.py:9: FutureWarning: ChainedAssignmentError: behaviour will change in pandas 3.0!\n",
      "You are setting values through chained assignment. Currently this works in certain cases, but when using Copy-on-Write (which will become the default behaviour in pandas 3.0) this will never work to update the original DataFrame or Series, because the intermediate object on which we are setting values will behave as a copy.\n",
      "A typical example is when you are setting values in a column of a DataFrame, like:\n",
      "\n",
      "df[\"col\"][row_indexer] = value\n",
      "\n",
      "Use `df.loc[row_indexer, \"col\"] = values` instead, to perform the assignment in a single step and ensure this keeps updating the original `df`.\n",
      "\n",
      "See the caveats in the documentation: https://pandas.pydata.org/pandas-docs/stable/user_guide/indexing.html#returning-a-view-versus-a-copy\n",
      "\n",
      "  copy_df[k][i] = copy_df[k].iloc[i] - mean\n",
      "C:\\Users\\chana\\AppData\\Local\\Temp\\ipykernel_4488\\3619189564.py:9: FutureWarning: Series.__setitem__ treating keys as positions is deprecated. In a future version, integer keys will always be treated as labels (consistent with DataFrame behavior). To set a value by position, use `ser.iloc[pos] = value`\n",
      "  copy_df[k][i] = copy_df[k].iloc[i] - mean\n",
      "C:\\Users\\chana\\AppData\\Local\\Temp\\ipykernel_4488\\3619189564.py:9: FutureWarning: ChainedAssignmentError: behaviour will change in pandas 3.0!\n",
      "You are setting values through chained assignment. Currently this works in certain cases, but when using Copy-on-Write (which will become the default behaviour in pandas 3.0) this will never work to update the original DataFrame or Series, because the intermediate object on which we are setting values will behave as a copy.\n",
      "A typical example is when you are setting values in a column of a DataFrame, like:\n",
      "\n",
      "df[\"col\"][row_indexer] = value\n",
      "\n",
      "Use `df.loc[row_indexer, \"col\"] = values` instead, to perform the assignment in a single step and ensure this keeps updating the original `df`.\n",
      "\n",
      "See the caveats in the documentation: https://pandas.pydata.org/pandas-docs/stable/user_guide/indexing.html#returning-a-view-versus-a-copy\n",
      "\n",
      "  copy_df[k][i] = copy_df[k].iloc[i] - mean\n",
      "C:\\Users\\chana\\AppData\\Local\\Temp\\ipykernel_4488\\3619189564.py:9: FutureWarning: Series.__setitem__ treating keys as positions is deprecated. In a future version, integer keys will always be treated as labels (consistent with DataFrame behavior). To set a value by position, use `ser.iloc[pos] = value`\n",
      "  copy_df[k][i] = copy_df[k].iloc[i] - mean\n",
      "C:\\Users\\chana\\AppData\\Local\\Temp\\ipykernel_4488\\3619189564.py:9: FutureWarning: ChainedAssignmentError: behaviour will change in pandas 3.0!\n",
      "You are setting values through chained assignment. Currently this works in certain cases, but when using Copy-on-Write (which will become the default behaviour in pandas 3.0) this will never work to update the original DataFrame or Series, because the intermediate object on which we are setting values will behave as a copy.\n",
      "A typical example is when you are setting values in a column of a DataFrame, like:\n",
      "\n",
      "df[\"col\"][row_indexer] = value\n",
      "\n",
      "Use `df.loc[row_indexer, \"col\"] = values` instead, to perform the assignment in a single step and ensure this keeps updating the original `df`.\n",
      "\n",
      "See the caveats in the documentation: https://pandas.pydata.org/pandas-docs/stable/user_guide/indexing.html#returning-a-view-versus-a-copy\n",
      "\n",
      "  copy_df[k][i] = copy_df[k].iloc[i] - mean\n",
      "C:\\Users\\chana\\AppData\\Local\\Temp\\ipykernel_4488\\3619189564.py:9: FutureWarning: Series.__setitem__ treating keys as positions is deprecated. In a future version, integer keys will always be treated as labels (consistent with DataFrame behavior). To set a value by position, use `ser.iloc[pos] = value`\n",
      "  copy_df[k][i] = copy_df[k].iloc[i] - mean\n",
      "C:\\Users\\chana\\AppData\\Local\\Temp\\ipykernel_4488\\3619189564.py:9: FutureWarning: ChainedAssignmentError: behaviour will change in pandas 3.0!\n",
      "You are setting values through chained assignment. Currently this works in certain cases, but when using Copy-on-Write (which will become the default behaviour in pandas 3.0) this will never work to update the original DataFrame or Series, because the intermediate object on which we are setting values will behave as a copy.\n",
      "A typical example is when you are setting values in a column of a DataFrame, like:\n",
      "\n",
      "df[\"col\"][row_indexer] = value\n",
      "\n",
      "Use `df.loc[row_indexer, \"col\"] = values` instead, to perform the assignment in a single step and ensure this keeps updating the original `df`.\n",
      "\n",
      "See the caveats in the documentation: https://pandas.pydata.org/pandas-docs/stable/user_guide/indexing.html#returning-a-view-versus-a-copy\n",
      "\n",
      "  copy_df[k][i] = copy_df[k].iloc[i] - mean\n",
      "C:\\Users\\chana\\AppData\\Local\\Temp\\ipykernel_4488\\3619189564.py:9: FutureWarning: Series.__setitem__ treating keys as positions is deprecated. In a future version, integer keys will always be treated as labels (consistent with DataFrame behavior). To set a value by position, use `ser.iloc[pos] = value`\n",
      "  copy_df[k][i] = copy_df[k].iloc[i] - mean\n"
     ]
    }
   ],
   "source": [
    "for i in range(copy_df.shape[0]):\n",
    "    l = []\n",
    "    for k in copy_df.columns:\n",
    "        if copy_df[k].iloc[i] != 0:\n",
    "            l.append(copy_df[k].iloc[i])\n",
    "    mean = sum(l)/len(l)\n",
    "    for k in copy_df.columns:\n",
    "        if copy_df[k].iloc[i] != 0:\n",
    "            copy_df[k][i] = copy_df[k].iloc[i] - mean\n",
    "    print(mean)"
   ]
  },
  {
   "cell_type": "code",
   "execution_count": 67,
   "metadata": {},
   "outputs": [
    {
     "data": {
      "text/html": [
       "<div>\n",
       "<style scoped>\n",
       "    .dataframe tbody tr th:only-of-type {\n",
       "        vertical-align: middle;\n",
       "    }\n",
       "\n",
       "    .dataframe tbody tr th {\n",
       "        vertical-align: top;\n",
       "    }\n",
       "\n",
       "    .dataframe thead th {\n",
       "        text-align: right;\n",
       "    }\n",
       "</style>\n",
       "<table border=\"1\" class=\"dataframe\">\n",
       "  <thead>\n",
       "    <tr style=\"text-align: right;\">\n",
       "      <th></th>\n",
       "      <th>projectA</th>\n",
       "      <th>projectB</th>\n",
       "      <th>projectC</th>\n",
       "    </tr>\n",
       "  </thead>\n",
       "  <tbody>\n",
       "    <tr>\n",
       "      <th>alice</th>\n",
       "      <td>3.666667</td>\n",
       "      <td>-3.333333</td>\n",
       "      <td>-0.333333</td>\n",
       "    </tr>\n",
       "    <tr>\n",
       "      <th>ask</th>\n",
       "      <td>0.000000</td>\n",
       "      <td>0.000000</td>\n",
       "      <td>0.000000</td>\n",
       "    </tr>\n",
       "    <tr>\n",
       "      <th>bob</th>\n",
       "      <td>0.000000</td>\n",
       "      <td>0.000000</td>\n",
       "      <td>0.000000</td>\n",
       "    </tr>\n",
       "    <tr>\n",
       "      <th>charlie</th>\n",
       "      <td>0.000000</td>\n",
       "      <td>0.000000</td>\n",
       "      <td>0.000000</td>\n",
       "    </tr>\n",
       "  </tbody>\n",
       "</table>\n",
       "</div>"
      ],
      "text/plain": [
       "         projectA  projectB  projectC\n",
       "alice    3.666667 -3.333333 -0.333333\n",
       "ask      0.000000  0.000000  0.000000\n",
       "bob      0.000000  0.000000  0.000000\n",
       "charlie  0.000000  0.000000  0.000000"
      ]
     },
     "execution_count": 67,
     "metadata": {},
     "output_type": "execute_result"
    }
   ],
   "source": [
    "copy_df"
   ]
  },
  {
   "cell_type": "code",
   "execution_count": null,
   "metadata": {},
   "outputs": [],
   "source": []
  }
 ],
 "metadata": {
  "kernelspec": {
   "display_name": "Python 3",
   "language": "python",
   "name": "python3"
  },
  "language_info": {
   "codemirror_mode": {
    "name": "ipython",
    "version": 3
   },
   "file_extension": ".py",
   "mimetype": "text/x-python",
   "name": "python",
   "nbconvert_exporter": "python",
   "pygments_lexer": "ipython3",
   "version": "3.12.9"
  }
 },
 "nbformat": 4,
 "nbformat_minor": 2
}
